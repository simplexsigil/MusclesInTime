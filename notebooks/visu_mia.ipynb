{
 "cells": [
  {
   "cell_type": "markdown",
   "metadata": {},
   "source": [
    "# Data Visualization\n",
    "This notebook contains visualizations for data samples of Muscles in Action (MIA).\n",
    "\n",
    "### MIA Samples\n",
    "This notebook visualizes MIA data samples together with predictions of a network which was pretrained on MinT and then partially fine-tuned on the first and last transformer block on MIA."
   ]
  },
  {
   "cell_type": "code",
   "execution_count": 1,
   "metadata": {},
   "outputs": [],
   "source": [
    "%load_ext autoreload\n",
    "%autoreload 2\n",
    "%matplotlib notebook\n",
    "%matplotlib inline\n",
    "\n",
    "import os\n",
    "from os.path import join as opj\n",
    "import sys\n",
    "import random\n",
    "\n",
    "import matplotlib.pyplot as plt\n",
    "import numpy as np\n",
    "import pandas as pd\n",
    "import torch\n",
    "import torch.nn.functional as F\n",
    "from tqdm import tqdm\n",
    "\n",
    "# Simple fix for smplx numpy compatibility in recent numpy versions.\n",
    "np.bool = np.bool_\n",
    "np.int = np.int_\n",
    "np.float = np.float_\n",
    "np.complex = np.complex_\n",
    "np.object = np.object_\n",
    "np.unicode = np.unicode_\n",
    "np.str = np.str_\n",
    "\n",
    "import matplotlib.pyplot as plt\n",
    "from matplotlib.animation import FuncAnimation\n",
    "from matplotlib.gridspec import GridSpec\n",
    "\n",
    "import seaborn as sns\n",
    "\n",
    "from IPython.display import HTML, display, Video\n",
    "\n",
    "from scipy.spatial.transform import Rotation as R\n",
    "from scipy.spatial.transform import Slerp\n",
    "from scipy.interpolate import interp1d\n",
    "\n",
    "from smplx.body_models import SMPL, SMPLH\n",
    "\n",
    "os.environ['PYOPENGL_PLATFORM'] = 'egl'\n",
    "\n",
    "from musint.benchmarks.muscle_sets import MIA_MUSCLES\n",
    "from musint.benchmarks.muscle_sets import MUSCLE_SUBSETS\n",
    "\n",
    "import mia_utils as miau\n",
    "import amass_utils as amau\n",
    "from plotting_utils import visualize_pose, plot_emg_data"
   ]
  },
  {
   "cell_type": "code",
   "execution_count": 2,
   "metadata": {},
   "outputs": [],
   "source": [
    "# Set global plot parameters for consistent styling\n",
    "plt.rcParams.update(\n",
    "    {\n",
    "        \"text.usetex\": False,\n",
    "        \"font.family\": \"serif\",\n",
    "        \"font.serif\": [\"DejaVu Serif\"],\n",
    "        \"font.sans-serif\": [\"Helvetica\"],\n",
    "        \"figure.figsize\": (6, 4.8),  # Figure size\n",
    "        \"font.size\": 12,  # Global font size\n",
    "        \"axes.titlesize\": 12,  # Title font size\n",
    "        \"axes.labelsize\": 12,  # Axes labels font size\n",
    "        \"xtick.labelsize\": 12,  # X-tick labels font size\n",
    "        \"ytick.labelsize\": 12,  # Y-tick labels font size\n",
    "        \"legend.fontsize\": 12,  # Legend font size\n",
    "        \"figure.titlesize\": 12,  # Figure title font size\n",
    "    }\n",
    ")"
   ]
  },
  {
   "cell_type": "code",
   "execution_count": 3,
   "metadata": {},
   "outputs": [],
   "source": [
    "data_dir_mia = \"notebook_resources/mia_root\""
   ]
  },
  {
   "cell_type": "code",
   "execution_count": 4,
   "metadata": {},
   "outputs": [
    {
     "name": "stderr",
     "output_type": "stream",
     "text": [
      "24663it [00:49, 500.47it/s]"
     ]
    },
    {
     "name": "stdout",
     "output_type": "stream",
     "text": [
      "notebook_resources/mia_root/train/Subject3/HighKick/848/emgvalues.npy\n",
      "24340\n"
     ]
    },
    {
     "name": "stderr",
     "output_type": "stream",
     "text": [
      "\n"
     ]
    },
    {
     "data": {
      "text/html": [
       "<div>\n",
       "<style scoped>\n",
       "    .dataframe tbody tr th:only-of-type {\n",
       "        vertical-align: middle;\n",
       "    }\n",
       "\n",
       "    .dataframe tbody tr th {\n",
       "        vertical-align: top;\n",
       "    }\n",
       "\n",
       "    .dataframe thead th {\n",
       "        text-align: right;\n",
       "    }\n",
       "</style>\n",
       "<table border=\"1\" class=\"dataframe\">\n",
       "  <thead>\n",
       "    <tr style=\"text-align: right;\">\n",
       "      <th></th>\n",
       "      <th>path</th>\n",
       "      <th>split</th>\n",
       "      <th>subject</th>\n",
       "      <th>activity</th>\n",
       "      <th>repetition</th>\n",
       "      <th>id</th>\n",
       "    </tr>\n",
       "  </thead>\n",
       "  <tbody>\n",
       "    <tr>\n",
       "      <th>0</th>\n",
       "      <td>notebook_resources/mia_root/train/Subject3/Hig...</td>\n",
       "      <td>train</td>\n",
       "      <td>Subject3</td>\n",
       "      <td>HighKick</td>\n",
       "      <td>848</td>\n",
       "      <td>train/Subject3/HighKick/848</td>\n",
       "    </tr>\n",
       "    <tr>\n",
       "      <th>1</th>\n",
       "      <td>notebook_resources/mia_root/train/Subject3/Hig...</td>\n",
       "      <td>train</td>\n",
       "      <td>Subject3</td>\n",
       "      <td>HighKick</td>\n",
       "      <td>886</td>\n",
       "      <td>train/Subject3/HighKick/886</td>\n",
       "    </tr>\n",
       "    <tr>\n",
       "      <th>2</th>\n",
       "      <td>notebook_resources/mia_root/train/Subject3/Hig...</td>\n",
       "      <td>train</td>\n",
       "      <td>Subject3</td>\n",
       "      <td>HighKick</td>\n",
       "      <td>836</td>\n",
       "      <td>train/Subject3/HighKick/836</td>\n",
       "    </tr>\n",
       "    <tr>\n",
       "      <th>3</th>\n",
       "      <td>notebook_resources/mia_root/train/Subject3/Hig...</td>\n",
       "      <td>train</td>\n",
       "      <td>Subject3</td>\n",
       "      <td>HighKick</td>\n",
       "      <td>878</td>\n",
       "      <td>train/Subject3/HighKick/878</td>\n",
       "    </tr>\n",
       "    <tr>\n",
       "      <th>4</th>\n",
       "      <td>notebook_resources/mia_root/train/Subject3/Hig...</td>\n",
       "      <td>train</td>\n",
       "      <td>Subject3</td>\n",
       "      <td>HighKick</td>\n",
       "      <td>874</td>\n",
       "      <td>train/Subject3/HighKick/874</td>\n",
       "    </tr>\n",
       "  </tbody>\n",
       "</table>\n",
       "</div>"
      ],
      "text/plain": [
       "                                                path  split   subject  \\\n",
       "0  notebook_resources/mia_root/train/Subject3/Hig...  train  Subject3   \n",
       "1  notebook_resources/mia_root/train/Subject3/Hig...  train  Subject3   \n",
       "2  notebook_resources/mia_root/train/Subject3/Hig...  train  Subject3   \n",
       "3  notebook_resources/mia_root/train/Subject3/Hig...  train  Subject3   \n",
       "4  notebook_resources/mia_root/train/Subject3/Hig...  train  Subject3   \n",
       "\n",
       "   activity repetition                           id  \n",
       "0  HighKick        848  train/Subject3/HighKick/848  \n",
       "1  HighKick        886  train/Subject3/HighKick/886  \n",
       "2  HighKick        836  train/Subject3/HighKick/836  \n",
       "3  HighKick        878  train/Subject3/HighKick/878  \n",
       "4  HighKick        874  train/Subject3/HighKick/874  "
      ]
     },
     "execution_count": 4,
     "metadata": {},
     "output_type": "execute_result"
    }
   ],
   "source": [
    "mia_metadata = miau.index_mia_dataset(data_dir_mia)\n",
    "mia_metadata[\"id\"] = mia_metadata[\"path\"].apply(lambda p: \"/\".join(p.split(os.path.sep)[-4:]))\n",
    "mia_metadata.head()"
   ]
  },
  {
   "cell_type": "code",
   "execution_count": 5,
   "metadata": {},
   "outputs": [
    {
     "name": "stderr",
     "output_type": "stream",
     "text": [
      "100%|██████████| 24340/24340 [00:09<00:00, 2450.76it/s]"
     ]
    },
    {
     "name": "stdout",
     "output_type": "stream",
     "text": [
      "MIA data shape: torch.Size([24340, 30, 8])\n"
     ]
    },
    {
     "name": "stderr",
     "output_type": "stream",
     "text": [
      "\n"
     ]
    }
   ],
   "source": [
    "mia_emg_data = miau.load_emg_data(list(map(lambda p: opj(p, \"emgvalues.npy\"), mia_metadata[\"path\"])))\n",
    "print(f\"MIA data shape: {mia_emg_data.shape}\")"
   ]
  },
  {
   "cell_type": "code",
   "execution_count": 6,
   "metadata": {},
   "outputs": [
    {
     "data": {
      "text/plain": [
       "<Axes: >"
      ]
     },
     "execution_count": 6,
     "metadata": {},
     "output_type": "execute_result"
    },
    {
     "data": {
      "image/png": "[encoded data removed]",
      "text/plain": [
       "<Figure size 600x480 with 1 Axes>"
      ]
     },
     "metadata": {},
     "output_type": "display_data"
    }
   ],
   "source": [
    "# MIA does not label its data with muscle names (the original MIA dataset implementation contains such an ordering but it is not used and does not correspond to the actual data).\n",
    "# We recreate Figure 1 from the PDF in the supplementary here\n",
    "# https://openaccess.thecvf.com/content/ICCV2023/supplemental/Chiquier_Muscles_in_Action_ICCV_2023_supplemental.zip\n",
    "# to verify the order of the muscles in the dataset.\n",
    "# l_quad, l_ham, l_lat, l_bicep, r_quad, r_ham, r_lat, r_bicep\n",
    "# There is a slight shift in values, presumably by the selection of data (train, val, train+val) or preprocessing,\n",
    "# but it is obvious the the graphs align and the column order follows the x ticks in figure 1 of the MIA supp.\n",
    "\n",
    "\n",
    "def max_emg_subj(mia_emg_data, mia_metadata, subject):\n",
    "    emg_dat = mia_emg_data[mia_metadata[\"subject\"] == subject]\n",
    "    max_emg = torch.max(emg_dat.reshape((-1, 8)), axis=0)\n",
    "    return max_emg\n",
    "\n",
    "\n",
    "per_subject_max = torch.stack([max_emg_subj(mia_emg_data, mia_metadata, f\"Subject{i}\")[0] for i in range(10)], dim=0)\n",
    "\n",
    "sns.boxplot(data=per_subject_max)"
   ]
  },
  {
   "cell_type": "code",
   "execution_count": 7,
   "metadata": {},
   "outputs": [
    {
     "name": "stdout",
     "output_type": "stream",
     "text": [
      "Mean: tensor([[22.3357, 18.7647, 18.6260, 19.9454, 24.1179, 19.4371, 18.6869, 18.0062],\n",
      "        [22.3155, 18.7217, 18.5737, 19.9184, 24.1267, 19.4776, 18.6766, 18.0028],\n",
      "        [22.4449, 18.7215, 18.5753, 19.9462, 24.2376, 19.5561, 18.6675, 18.0374],\n",
      "        [22.4565, 18.8139, 18.6074, 19.9394, 24.3497, 19.6318, 18.7369, 18.0636],\n",
      "        [22.4653, 18.8364, 18.6328, 19.9627, 24.3091, 19.6392, 18.7796, 18.0295],\n",
      "        [22.5401, 18.8652, 18.6963, 19.9305, 24.3604, 19.6241, 18.7732, 17.9745],\n",
      "        [22.5247, 18.8470, 18.6651, 19.8743, 24.4682, 19.6185, 18.7403, 17.9765],\n",
      "        [22.5700, 18.8815, 18.6826, 19.9147, 24.5657, 19.6288, 18.7122, 17.9936],\n",
      "        [22.5106, 18.8653, 18.6747, 19.9397, 24.6551, 19.6251, 18.7451, 18.0338],\n",
      "        [22.4350, 18.8552, 18.6601, 19.9721, 24.6228, 19.5734, 18.7324, 18.0640],\n",
      "        [22.4357, 18.7968, 18.6362, 19.9149, 24.6122, 19.5279, 18.6984, 18.0826],\n",
      "        [22.3066, 18.7261, 18.5823, 19.7620, 24.4969, 19.5239, 18.6632, 18.0313],\n",
      "        [22.3157, 18.7306, 18.5541, 19.7422, 24.4543, 19.5281, 18.6144, 18.0555],\n",
      "        [22.3074, 18.7995, 18.5288, 19.8013, 24.4981, 19.5631, 18.6300, 18.0454],\n",
      "        [22.2391, 18.8265, 18.5111, 19.8588, 24.4356, 19.5375, 18.6438, 18.0314],\n",
      "        [22.2373, 18.8299, 18.5781, 19.8788, 24.3974, 19.4910, 18.6701, 18.0369],\n",
      "        [22.2336, 18.7972, 18.5878, 19.8330, 24.4213, 19.5040, 18.7584, 18.0504],\n",
      "        [22.3116, 18.8669, 18.6636, 19.9213, 24.4639, 19.5483, 18.7954, 18.1577],\n",
      "        [22.3613, 18.9363, 18.6812, 19.9689, 24.5342, 19.5666, 18.8631, 18.1637],\n",
      "        [22.4073, 18.9081, 18.7448, 20.0059, 24.5105, 19.5988, 18.8873, 18.1250],\n",
      "        [22.4695, 18.8537, 18.7730, 20.0148, 24.4409, 19.5198, 18.8635, 18.0650],\n",
      "        [22.4706, 18.8599, 18.7380, 19.9719, 24.4166, 19.5881, 18.8311, 18.0175],\n",
      "        [22.5569, 18.8010, 18.7502, 20.0028, 24.4954, 19.5931, 18.7821, 18.0309],\n",
      "        [22.5878, 18.8353, 18.6942, 20.0062, 24.5426, 19.5973, 18.8307, 18.0305],\n",
      "        [22.5463, 18.8338, 18.6829, 19.9514, 24.4355, 19.5561, 18.7898, 18.0169],\n",
      "        [22.5069, 18.8281, 18.7071, 19.9461, 24.4184, 19.5598, 18.7880, 18.0554],\n",
      "        [22.4851, 18.7931, 18.7046, 19.8744, 24.3748, 19.5828, 18.7694, 18.0698],\n",
      "        [22.5430, 18.8072, 18.7236, 19.9415, 24.3657, 19.6150, 18.7344, 18.1031],\n",
      "        [22.5468, 18.8624, 18.6378, 19.9713, 24.3478, 19.6306, 18.7620, 18.1065],\n",
      "        [22.4129, 18.8352, 18.5819, 19.9960, 24.2029, 19.5357, 18.7224, 18.0681]],\n",
      "       dtype=torch.float64)\n",
      "Max: torch.return_types.max(\n",
      "values=tensor([[403., 154., 331., 228., 438., 168., 251., 253.],\n",
      "        [355., 146., 296., 245., 411., 180., 260., 307.],\n",
      "        [369., 178., 310., 274., 442., 186., 281., 232.],\n",
      "        [341., 167., 327., 248., 473., 194., 281., 273.],\n",
      "        [307., 168., 318., 236., 442., 176., 279., 273.],\n",
      "        [355., 169., 331., 227., 409., 176., 279., 253.],\n",
      "        [355., 159., 296., 245., 425., 174., 272., 307.],\n",
      "        [332., 148., 310., 274., 442., 173., 276., 232.],\n",
      "        [306., 225., 327., 248., 408., 163., 272., 273.],\n",
      "        [306., 184., 318., 253., 423., 174., 253., 273.],\n",
      "        [356., 168., 331., 273., 452., 155., 251., 253.],\n",
      "        [296., 131., 296., 307., 447., 166., 244., 307.],\n",
      "        [295., 158., 310., 282., 460., 163., 276., 232.],\n",
      "        [295., 155., 327., 237., 433., 171., 271., 273.],\n",
      "        [308., 161., 318., 230., 457., 161., 258., 273.],\n",
      "        [305., 144., 331., 239., 435., 161., 258., 253.],\n",
      "        [305., 127., 296., 245., 398., 166., 309., 307.],\n",
      "        [321., 182., 310., 274., 442., 174., 369., 232.],\n",
      "        [321., 233., 327., 237., 403., 164., 271., 273.],\n",
      "        [282., 188., 318., 230., 450., 161., 267., 273.],\n",
      "        [341., 144., 331., 227., 458., 170., 251., 253.],\n",
      "        [354., 152., 296., 245., 465., 174., 250., 307.],\n",
      "        [370., 147., 310., 274., 445., 166., 276., 232.],\n",
      "        [384., 231., 327., 237., 436., 183., 271., 273.],\n",
      "        [414., 180., 318., 230., 430., 178., 269., 273.],\n",
      "        [394., 156., 331., 250., 515., 188., 320., 253.],\n",
      "        [350., 137., 296., 245., 487., 188., 286., 307.],\n",
      "        [344., 147., 310., 285., 442., 180., 276., 232.],\n",
      "        [357., 155., 327., 293., 388., 184., 284., 273.],\n",
      "        [413., 161., 318., 237., 406., 186., 253., 273.]], dtype=torch.float64),\n",
      "indices=tensor([[17848, 20550,  9409, 16228, 17854, 17514,  9607,  3005],\n",
      "        [17848, 10791,  9391,  6426, 17854, 10728, 19516,  3300],\n",
      "        [17848, 22251,  9494,  6257,  9563, 17504, 19546,  6636],\n",
      "        [17416, 22251,  9418, 10169, 23909, 17504, 19546,  2933],\n",
      "        [17416, 22251,  9566, 15698, 23909, 17504, 19546,  2933],\n",
      "        [23808, 17599,  9566,  6413, 23909, 10745, 19546,  2933],\n",
      "        [23808, 22251,  9364,  6404, 17900, 17457, 19546,  3230],\n",
      "        [17431, 17673,  9473,  6754,  9243, 23818, 20814,  6606],\n",
      "        [17433, 17673,  9397, 10165, 23914, 17513, 19546,  3335],\n",
      "        [17433, 17673,  9541, 10165, 23914, 22157,  9358,  3335],\n",
      "        [17433, 10789,  9541, 15280, 21966,  1787,  9358,  3335],\n",
      "        [23809, 12235,  9433, 10462, 23914,  7507,  9541,  3156],\n",
      "        [17410, 17668,  9629, 10462, 17891,  1757, 20798,  6581],\n",
      "        [17410,  8430,  9554,  6402, 17424, 17509, 20798,  3086],\n",
      "        [17424,  4261,  9431,  6721, 17857, 10791, 19488,  3086],\n",
      "        [17409,  4107,  9431, 10217, 17857, 19992, 19488,  3086],\n",
      "        [17409, 15939,  9589,  6550, 17857,  7653, 11665,  3083],\n",
      "        [17416, 17666,  9607,  6379,  9586, 17468, 11665,  6555],\n",
      "        [17416, 17666,  9529,  6379, 17857,  2252, 20808,  3008],\n",
      "        [23808, 17666,  9411,  6693, 23808,  2252, 19536,  3008],\n",
      "        [17847,  4254,  9411,  6533, 17892,  1772,  9316,  3008],\n",
      "        [17847, 17620,  9568,  6522, 17857, 10788, 19536,  3005],\n",
      "        [17847,  7507,  9583,  6351, 17857, 17516, 20788,  6737],\n",
      "        [17847, 23856,  9503,  6351, 17892, 23824, 20788,  2935],\n",
      "        [17847, 23856,  9386,  6668, 17903, 23824, 19516,  2935],\n",
      "        [17847, 23856,  9386, 10169, 17903, 17454, 19516,  2935],\n",
      "        [17847, 11054,  9546,  6497, 17903, 17441, 19516,  2933],\n",
      "        [17902,  7653,  9358, 10201,  9245, 17441, 20770,  6705],\n",
      "        [17902,  8356,  9482, 10201, 17424, 17508, 18756,  2976],\n",
      "        [17902,  4187,  9543, 10201, 21784, 17483,  9446,  2976]]))\n"
     ]
    }
   ],
   "source": [
    "# Compute the 99th percentile of the data along the first dimension, scaling without outliers.\n",
    "pct99_norm = np.percentile(mia_emg_data.reshape((-1, 8)), 99, axis=0)\n",
    "\n",
    "# Calulcate and save normalization statistics for the dataset.\n",
    "save_stats = False\n",
    "\n",
    "# Concatenate all the arrays from the data list into a single array for processing.\n",
    "Mean = mia_emg_data.mean(\n",
    "    axis=0\n",
    ")  # Compute the mean of the concatenated data along the first dimension (across all samples).\n",
    "Std = mia_emg_data.std(axis=0)  # Compute the standard deviation of the concatenated data along the first dimension.\n",
    "\n",
    "Max = mia_emg_data.max(axis=0)  # Compute the maximum of the concatenated data along the first dimension.\n",
    "\n",
    "print(\"Mean:\", Mean)\n",
    "print(\"Max:\", Max)\n",
    "\n",
    "if save_stats:\n",
    "    save_dir_mia = \"notebook_resources/mia_root\"\n",
    "\n",
    "    np.save(os.path.join(save_dir_mia, \"Mean.npy\"), Mean)\n",
    "    np.save(os.path.join(save_dir_mia, \"Std.npy\"), Std)\n",
    "\n",
    "    np.save(os.path.join(save_dir_mia, \"99pct.npy\"), np.percentile(mia_emg_data, 99, axis=0))"
   ]
  },
  {
   "cell_type": "code",
   "execution_count": 8,
   "metadata": {},
   "outputs": [
    {
     "data": {
      "text/plain": [
       "('train/Subject3/HighKick/848',\n",
       " tensor([[60., 15., 17., 17., 31., 38.,  4., 10.],\n",
       "         [57.,  9., 16., 16., 30., 31.,  3., 10.],\n",
       "         [52.,  9., 13., 16., 30., 24.,  3., 10.],\n",
       "         [45.,  8., 12., 14., 23., 19.,  3., 11.],\n",
       "         [34.,  7., 12., 14., 23., 14.,  3., 10.],\n",
       "         [26.,  6., 11., 15., 21., 12.,  3., 10.],\n",
       "         [19., 10., 11., 14., 21.,  9.,  3., 10.],\n",
       "         [16., 10.,  9., 13., 18.,  8.,  3., 10.],\n",
       "         [14.,  9.,  8., 13., 18.,  8.,  3.,  9.],\n",
       "         [14.,  8.,  6., 13., 10.,  7.,  5., 10.],\n",
       "         [17., 20.,  7., 13.,  9.,  7.,  5.,  9.],\n",
       "         [24., 20.,  7., 13.,  9., 20.,  5.,  9.],\n",
       "         [34., 49.,  6., 13., 13., 21.,  4.,  9.],\n",
       "         [45., 62.,  5., 12., 76., 29.,  5., 11.],\n",
       "         [55., 62.,  5., 13., 76., 23.,  5., 10.],\n",
       "         [68., 46.,  6., 13., 47., 17.,  5., 10.],\n",
       "         [61., 42.,  6., 13., 47., 13.,  4., 11.],\n",
       "         [61., 33.,  7., 14., 40., 10.,  4., 11.],\n",
       "         [55., 25.,  7., 13., 29.,  9.,  4., 10.],\n",
       "         [46., 19.,  6., 13., 21.,  9.,  4., 10.],\n",
       "         [38., 14.,  7., 13., 21., 10.,  4., 10.],\n",
       "         [28., 12.,  7., 13., 12., 11.,  4., 10.],\n",
       "         [21., 18.,  7., 13.,  9., 10.,  4., 11.],\n",
       "         [15., 18.,  7., 13.,  9.,  9.,  4., 12.],\n",
       "         [11., 17.,  6., 15.,  6., 10.,  3., 12.],\n",
       "         [21., 29.,  7., 15.,  6., 12.,  3., 12.],\n",
       "         [24., 29.,  7., 14.,  6., 28.,  3., 11.],\n",
       "         [50., 27.,  7., 14., 11., 25.,  4., 11.],\n",
       "         [68., 15.,  7., 13., 12., 21.,  4., 10.],\n",
       "         [48., 15.,  8., 12., 12., 16.,  3., 10.]], dtype=torch.float64))"
      ]
     },
     "execution_count": 8,
     "metadata": {},
     "output_type": "execute_result"
    }
   ],
   "source": [
    "mia_emg_dict = {mia_metadata.iloc[i][\"id\"]: mia_emg_data[i] for i in range(len(mia_metadata))}\n",
    "next(iter(mia_emg_dict.items()))"
   ]
  },
  {
   "cell_type": "code",
   "execution_count": 9,
   "metadata": {},
   "outputs": [
    {
     "data": {
      "text/plain": [
       "array(['HighKick', 'HookPunch', 'LegCross', 'Squat', 'SlowSkater',\n",
       "       'ElbowPunch', 'KneeKick', 'Shuffle', 'JumpingJack', 'SideLunges',\n",
       "       'Running', 'FrontPunch', 'LegBack', 'FrontKick', 'RonddeJambe'],\n",
       "      dtype=object)"
      ]
     },
     "execution_count": 9,
     "metadata": {},
     "output_type": "execute_result"
    }
   ],
   "source": [
    "mia_metadata[\"activity\"].unique()"
   ]
  },
  {
   "cell_type": "markdown",
   "metadata": {
    "vscode": {
     "languageId": "latex"
    }
   },
   "source": [
    "**Please download the SMPL-H model to the respective location.**\n",
    "- https://mano.is.tue.mpg.de/download.php\n",
    "- https://github.com/vchoutas/smplx/blob/main/tools/README.md"
   ]
  },
  {
   "cell_type": "code",
   "execution_count": 10,
   "metadata": {},
   "outputs": [
    {
     "name": "stdout",
     "output_type": "stream",
     "text": [
      "WARNING: You are using a SMPL+H model, with only 10 shape coefficients.\n"
     ]
    }
   ],
   "source": [
    "smpl_h_path = \"./body_models/smpl/SMPLH_NEUTRAL_AMASS_MERGED.pkl\"\n",
    "# Each VIBE sample in MIA has 30 frames at 10 fps. We convert to 20 fps by interpolating intermediate frames\n",
    "# Since we only interpolate between two frames we end up with 59 frames as result.\n",
    "bm = SMPLH(model_path=smpl_h_path, num_betas=10, use_pca=False, batch_size=59).cuda()"
   ]
  },
  {
   "cell_type": "code",
   "execution_count": 11,
   "metadata": {},
   "outputs": [
    {
     "data": {
      "text/html": [
       "<div>\n",
       "<style scoped>\n",
       "    .dataframe tbody tr th:only-of-type {\n",
       "        vertical-align: middle;\n",
       "    }\n",
       "\n",
       "    .dataframe tbody tr th {\n",
       "        vertical-align: top;\n",
       "    }\n",
       "\n",
       "    .dataframe thead th {\n",
       "        text-align: right;\n",
       "    }\n",
       "</style>\n",
       "<table border=\"1\" class=\"dataframe\">\n",
       "  <thead>\n",
       "    <tr style=\"text-align: right;\">\n",
       "      <th></th>\n",
       "      <th>gt_name</th>\n",
       "      <th>pred_name</th>\n",
       "      <th>time_start</th>\n",
       "    </tr>\n",
       "    <tr>\n",
       "      <th>name</th>\n",
       "      <th></th>\n",
       "      <th></th>\n",
       "      <th></th>\n",
       "    </tr>\n",
       "  </thead>\n",
       "  <tbody>\n",
       "    <tr>\n",
       "      <th>val/Subject5/JumpingJack/81</th>\n",
       "      <td>val/Subject5/JumpingJack/81_0_gt.npy</td>\n",
       "      <td>val/Subject5/JumpingJack/81_0_pred.npy</td>\n",
       "      <td>0.0</td>\n",
       "    </tr>\n",
       "    <tr>\n",
       "      <th>val/Subject5/JumpingJack/81</th>\n",
       "      <td>val/Subject5/JumpingJack/81_1_gt.npy</td>\n",
       "      <td>val/Subject5/JumpingJack/81_1_pred.npy</td>\n",
       "      <td>1.4</td>\n",
       "    </tr>\n",
       "    <tr>\n",
       "      <th>val/Subject5/JumpingJack/98</th>\n",
       "      <td>val/Subject5/JumpingJack/98_2_gt.npy</td>\n",
       "      <td>val/Subject5/JumpingJack/98_2_pred.npy</td>\n",
       "      <td>0.0</td>\n",
       "    </tr>\n",
       "    <tr>\n",
       "      <th>val/Subject5/JumpingJack/98</th>\n",
       "      <td>val/Subject5/JumpingJack/98_3_gt.npy</td>\n",
       "      <td>val/Subject5/JumpingJack/98_3_pred.npy</td>\n",
       "      <td>1.4</td>\n",
       "    </tr>\n",
       "    <tr>\n",
       "      <th>val/Subject5/JumpingJack/92</th>\n",
       "      <td>val/Subject5/JumpingJack/92_4_gt.npy</td>\n",
       "      <td>val/Subject5/JumpingJack/92_4_pred.npy</td>\n",
       "      <td>0.0</td>\n",
       "    </tr>\n",
       "  </tbody>\n",
       "</table>\n",
       "</div>"
      ],
      "text/plain": [
       "                                                          gt_name  \\\n",
       "name                                                                \n",
       "val/Subject5/JumpingJack/81  val/Subject5/JumpingJack/81_0_gt.npy   \n",
       "val/Subject5/JumpingJack/81  val/Subject5/JumpingJack/81_1_gt.npy   \n",
       "val/Subject5/JumpingJack/98  val/Subject5/JumpingJack/98_2_gt.npy   \n",
       "val/Subject5/JumpingJack/98  val/Subject5/JumpingJack/98_3_gt.npy   \n",
       "val/Subject5/JumpingJack/92  val/Subject5/JumpingJack/92_4_gt.npy   \n",
       "\n",
       "                                                          pred_name  \\\n",
       "name                                                                  \n",
       "val/Subject5/JumpingJack/81  val/Subject5/JumpingJack/81_0_pred.npy   \n",
       "val/Subject5/JumpingJack/81  val/Subject5/JumpingJack/81_1_pred.npy   \n",
       "val/Subject5/JumpingJack/98  val/Subject5/JumpingJack/98_2_pred.npy   \n",
       "val/Subject5/JumpingJack/98  val/Subject5/JumpingJack/98_3_pred.npy   \n",
       "val/Subject5/JumpingJack/92  val/Subject5/JumpingJack/92_4_pred.npy   \n",
       "\n",
       "                             time_start  \n",
       "name                                     \n",
       "val/Subject5/JumpingJack/81         0.0  \n",
       "val/Subject5/JumpingJack/81         1.4  \n",
       "val/Subject5/JumpingJack/98         0.0  \n",
       "val/Subject5/JumpingJack/98         1.4  \n",
       "val/Subject5/JumpingJack/92         0.0  "
      ]
     },
     "execution_count": 11,
     "metadata": {},
     "output_type": "execute_result"
    }
   ],
   "source": [
    "preds_root = \"notebook_resources/mia_predictions\"\n",
    "\n",
    "mia_preds = pd.read_csv(opj(preds_root, \"metadata.csv\"))\n",
    "mia_preds.set_index(\"name\", inplace=True)\n",
    "mia_preds[\"gt_name\"] = mia_preds[\"gt_name\"].apply(lambda x: x.replace(\"__I__\", \"/\"))\n",
    "mia_preds[\"pred_name\"] = mia_preds[\"pred_name\"].apply(lambda x: x.replace(\"__I__\", \"/\"))\n",
    "mia_preds.head()"
   ]
  },
  {
   "cell_type": "code",
   "execution_count": 32,
   "metadata": {},
   "outputs": [
    {
     "name": "stderr",
     "output_type": "stream",
     "text": [
      "  0%|          | 0/15 [00:00<?, ?it/s]/tmp/ipykernel_2477954/3269945575.py:64: MatplotlibDeprecationWarning: Setting data with a non sequence type is deprecated since 3.7 and will be remove two minor releases later\n",
      "  line.set_xdata(frame)\n"
     ]
    },
    {
     "name": "stdout",
     "output_type": "stream",
     "text": [
      "val/Subject3/Running/3\n"
     ]
    },
    {
     "data": {
      "text/html": [
       "<video src=\"notebook_output/mia/val__I__Subject3__I__Running__I__3.mp4\" controls  >\n",
       "      Your browser does not support the <code>video</code> element.\n",
       "    </video>"
      ],
      "text/plain": [
       "<IPython.core.display.Video object>"
      ]
     },
     "metadata": {},
     "output_type": "display_data"
    },
    {
     "name": "stderr",
     "output_type": "stream",
     "text": [
      "  7%|▋         | 1/15 [00:09<02:12,  9.50s/it]/tmp/ipykernel_2477954/3269945575.py:64: MatplotlibDeprecationWarning: Setting data with a non sequence type is deprecated since 3.7 and will be remove two minor releases later\n",
      "  line.set_xdata(frame)\n"
     ]
    },
    {
     "name": "stdout",
     "output_type": "stream",
     "text": [
      "val/Subject9/Running/50\n"
     ]
    },
    {
     "data": {
      "text/html": [
       "<video src=\"notebook_output/mia/val__I__Subject9__I__Running__I__50.mp4\" controls  >\n",
       "      Your browser does not support the <code>video</code> element.\n",
       "    </video>"
      ],
      "text/plain": [
       "<IPython.core.display.Video object>"
      ]
     },
     "metadata": {},
     "output_type": "display_data"
    },
    {
     "name": "stderr",
     "output_type": "stream",
     "text": [
      " 13%|█▎        | 2/15 [00:19<02:05,  9.63s/it]/tmp/ipykernel_2477954/3269945575.py:64: MatplotlibDeprecationWarning: Setting data with a non sequence type is deprecated since 3.7 and will be remove two minor releases later\n",
      "  line.set_xdata(frame)\n"
     ]
    },
    {
     "name": "stdout",
     "output_type": "stream",
     "text": [
      "val/Subject9/Running/57\n"
     ]
    },
    {
     "data": {
      "text/html": [
       "<video src=\"notebook_output/mia/val__I__Subject9__I__Running__I__57.mp4\" controls  >\n",
       "      Your browser does not support the <code>video</code> element.\n",
       "    </video>"
      ],
      "text/plain": [
       "<IPython.core.display.Video object>"
      ]
     },
     "metadata": {},
     "output_type": "display_data"
    },
    {
     "name": "stderr",
     "output_type": "stream",
     "text": [
      " 20%|██        | 3/15 [00:28<01:55,  9.59s/it]/tmp/ipykernel_2477954/3269945575.py:64: MatplotlibDeprecationWarning: Setting data with a non sequence type is deprecated since 3.7 and will be remove two minor releases later\n",
      "  line.set_xdata(frame)\n"
     ]
    },
    {
     "name": "stdout",
     "output_type": "stream",
     "text": [
      "Did not find emg data for val/Subject0/JumpingJack/359\n",
      "val/Subject6/JumpingJack/50\n"
     ]
    },
    {
     "data": {
      "text/html": [
       "<video src=\"notebook_output/mia/val__I__Subject6__I__JumpingJack__I__50.mp4\" controls  >\n",
       "      Your browser does not support the <code>video</code> element.\n",
       "    </video>"
      ],
      "text/plain": [
       "<IPython.core.display.Video object>"
      ]
     },
     "metadata": {},
     "output_type": "display_data"
    },
    {
     "name": "stderr",
     "output_type": "stream",
     "text": [
      " 33%|███▎      | 5/15 [00:38<01:09,  6.93s/it]/tmp/ipykernel_2477954/3269945575.py:64: MatplotlibDeprecationWarning: Setting data with a non sequence type is deprecated since 3.7 and will be remove two minor releases later\n",
      "  line.set_xdata(frame)\n"
     ]
    },
    {
     "name": "stdout",
     "output_type": "stream",
     "text": [
      "val/Subject6/JumpingJack/57\n"
     ]
    },
    {
     "data": {
      "text/html": [
       "<video src=\"notebook_output/mia/val__I__Subject6__I__JumpingJack__I__57.mp4\" controls  >\n",
       "      Your browser does not support the <code>video</code> element.\n",
       "    </video>"
      ],
      "text/plain": [
       "<IPython.core.display.Video object>"
      ]
     },
     "metadata": {},
     "output_type": "display_data"
    },
    {
     "name": "stderr",
     "output_type": "stream",
     "text": [
      " 40%|████      | 6/15 [00:48<01:08,  7.66s/it]/tmp/ipykernel_2477954/3269945575.py:64: MatplotlibDeprecationWarning: Setting data with a non sequence type is deprecated since 3.7 and will be remove two minor releases later\n",
      "  line.set_xdata(frame)\n"
     ]
    },
    {
     "name": "stdout",
     "output_type": "stream",
     "text": [
      "val/Subject2/Shuffle/50\n"
     ]
    },
    {
     "data": {
      "text/html": [
       "<video src=\"notebook_output/mia/val__I__Subject2__I__Shuffle__I__50.mp4\" controls  >\n",
       "      Your browser does not support the <code>video</code> element.\n",
       "    </video>"
      ],
      "text/plain": [
       "<IPython.core.display.Video object>"
      ]
     },
     "metadata": {},
     "output_type": "display_data"
    },
    {
     "name": "stderr",
     "output_type": "stream",
     "text": [
      " 47%|████▋     | 7/15 [00:57<01:05,  8.17s/it]/tmp/ipykernel_2477954/3269945575.py:64: MatplotlibDeprecationWarning: Setting data with a non sequence type is deprecated since 3.7 and will be remove two minor releases later\n",
      "  line.set_xdata(frame)\n"
     ]
    },
    {
     "name": "stdout",
     "output_type": "stream",
     "text": [
      "val/Subject2/Shuffle/57\n"
     ]
    },
    {
     "data": {
      "text/html": [
       "<video src=\"notebook_output/mia/val__I__Subject2__I__Shuffle__I__57.mp4\" controls  >\n",
       "      Your browser does not support the <code>video</code> element.\n",
       "    </video>"
      ],
      "text/plain": [
       "<IPython.core.display.Video object>"
      ]
     },
     "metadata": {},
     "output_type": "display_data"
    },
    {
     "name": "stderr",
     "output_type": "stream",
     "text": [
      " 53%|█████▎    | 8/15 [01:07<01:00,  8.61s/it]/tmp/ipykernel_2477954/3269945575.py:64: MatplotlibDeprecationWarning: Setting data with a non sequence type is deprecated since 3.7 and will be remove two minor releases later\n",
      "  line.set_xdata(frame)\n"
     ]
    },
    {
     "name": "stdout",
     "output_type": "stream",
     "text": [
      "val/Subject8/Shuffle/359\n"
     ]
    },
    {
     "data": {
      "text/html": [
       "<video src=\"notebook_output/mia/val__I__Subject8__I__Shuffle__I__359.mp4\" controls  >\n",
       "      Your browser does not support the <code>video</code> element.\n",
       "    </video>"
      ],
      "text/plain": [
       "<IPython.core.display.Video object>"
      ]
     },
     "metadata": {},
     "output_type": "display_data"
    },
    {
     "name": "stderr",
     "output_type": "stream",
     "text": [
      " 60%|██████    | 9/15 [01:16<00:53,  8.89s/it]/tmp/ipykernel_2477954/3269945575.py:64: MatplotlibDeprecationWarning: Setting data with a non sequence type is deprecated since 3.7 and will be remove two minor releases later\n",
      "  line.set_xdata(frame)\n"
     ]
    },
    {
     "name": "stdout",
     "output_type": "stream",
     "text": [
      "val/Subject8/JumpingJack/544\n"
     ]
    },
    {
     "data": {
      "text/html": [
       "<video src=\"notebook_output/mia/val__I__Subject8__I__JumpingJack__I__544.mp4\" controls  >\n",
       "      Your browser does not support the <code>video</code> element.\n",
       "    </video>"
      ],
      "text/plain": [
       "<IPython.core.display.Video object>"
      ]
     },
     "metadata": {},
     "output_type": "display_data"
    },
    {
     "name": "stderr",
     "output_type": "stream",
     "text": [
      " 67%|██████▋   | 10/15 [01:26<00:45,  9.05s/it]/tmp/ipykernel_2477954/3269945575.py:64: MatplotlibDeprecationWarning: Setting data with a non sequence type is deprecated since 3.7 and will be remove two minor releases later\n",
      "  line.set_xdata(frame)\n"
     ]
    },
    {
     "name": "stdout",
     "output_type": "stream",
     "text": [
      "val/Subject4/Running/50\n"
     ]
    },
    {
     "data": {
      "text/html": [
       "<video src=\"notebook_output/mia/val__I__Subject4__I__Running__I__50.mp4\" controls  >\n",
       "      Your browser does not support the <code>video</code> element.\n",
       "    </video>"
      ],
      "text/plain": [
       "<IPython.core.display.Video object>"
      ]
     },
     "metadata": {},
     "output_type": "display_data"
    },
    {
     "name": "stderr",
     "output_type": "stream",
     "text": [
      " 73%|███████▎  | 11/15 [01:35<00:37,  9.27s/it]/tmp/ipykernel_2477954/3269945575.py:64: MatplotlibDeprecationWarning: Setting data with a non sequence type is deprecated since 3.7 and will be remove two minor releases later\n",
      "  line.set_xdata(frame)\n"
     ]
    },
    {
     "name": "stdout",
     "output_type": "stream",
     "text": [
      "val/Subject4/Running/57\n"
     ]
    },
    {
     "data": {
      "text/html": [
       "<video src=\"notebook_output/mia/val__I__Subject4__I__Running__I__57.mp4\" controls  >\n",
       "      Your browser does not support the <code>video</code> element.\n",
       "    </video>"
      ],
      "text/plain": [
       "<IPython.core.display.Video object>"
      ]
     },
     "metadata": {},
     "output_type": "display_data"
    },
    {
     "name": "stderr",
     "output_type": "stream",
     "text": [
      " 80%|████████  | 12/15 [01:45<00:28,  9.34s/it]/tmp/ipykernel_2477954/3269945575.py:64: MatplotlibDeprecationWarning: Setting data with a non sequence type is deprecated since 3.7 and will be remove two minor releases later\n",
      "  line.set_xdata(frame)\n"
     ]
    },
    {
     "name": "stdout",
     "output_type": "stream",
     "text": [
      "val/Subject1/JumpingJack/3\n"
     ]
    },
    {
     "data": {
      "text/html": [
       "<video src=\"notebook_output/mia/val__I__Subject1__I__JumpingJack__I__3.mp4\" controls  >\n",
       "      Your browser does not support the <code>video</code> element.\n",
       "    </video>"
      ],
      "text/plain": [
       "<IPython.core.display.Video object>"
      ]
     },
     "metadata": {},
     "output_type": "display_data"
    },
    {
     "name": "stderr",
     "output_type": "stream",
     "text": [
      " 87%|████████▋ | 13/15 [01:54<00:18,  9.38s/it]/tmp/ipykernel_2477954/3269945575.py:64: MatplotlibDeprecationWarning: Setting data with a non sequence type is deprecated since 3.7 and will be remove two minor releases later\n",
      "  line.set_xdata(frame)\n"
     ]
    },
    {
     "name": "stdout",
     "output_type": "stream",
     "text": [
      "val/Subject1/Running/171\n"
     ]
    },
    {
     "data": {
      "text/html": [
       "<video src=\"notebook_output/mia/val__I__Subject1__I__Running__I__171.mp4\" controls  >\n",
       "      Your browser does not support the <code>video</code> element.\n",
       "    </video>"
      ],
      "text/plain": [
       "<IPython.core.display.Video object>"
      ]
     },
     "metadata": {},
     "output_type": "display_data"
    },
    {
     "name": "stderr",
     "output_type": "stream",
     "text": [
      " 93%|█████████▎| 14/15 [02:04<00:09,  9.48s/it]/tmp/ipykernel_2477954/3269945575.py:64: MatplotlibDeprecationWarning: Setting data with a non sequence type is deprecated since 3.7 and will be remove two minor releases later\n",
      "  line.set_xdata(frame)\n"
     ]
    },
    {
     "name": "stdout",
     "output_type": "stream",
     "text": [
      "val/Subject7/Shuffle/171\n"
     ]
    },
    {
     "data": {
      "text/html": [
       "<video src=\"notebook_output/mia/val__I__Subject7__I__Shuffle__I__171.mp4\" controls  >\n",
       "      Your browser does not support the <code>video</code> element.\n",
       "    </video>"
      ],
      "text/plain": [
       "<IPython.core.display.Video object>"
      ]
     },
     "metadata": {},
     "output_type": "display_data"
    },
    {
     "name": "stderr",
     "output_type": "stream",
     "text": [
      "100%|██████████| 15/15 [02:14<00:00,  8.94s/it]\n"
     ]
    }
   ],
   "source": [
    "rans = 42\n",
    "np.random.seed(rans)\n",
    "torch.manual_seed(rans)\n",
    "\n",
    "reps = [\"50\", \"3\", \"171\", \"57\", \"544\", \"20\", \"359\"]\n",
    "activities = [\"Running\", \"JumpingJack\", \"Shuffle\"]\n",
    "\n",
    "random_sample = mia_metadata[\n",
    "    (mia_metadata[\"split\"] == \"val\")\n",
    "    & (mia_metadata[\"activity\"].isin(activities))\n",
    "    & (mia_metadata[\"repetition\"].isin(reps))\n",
    "]\n",
    "\n",
    "for i in tqdm(range(min(100, len(random_sample)))):\n",
    "    # Setting up the visualization. Selecting a random sample.\n",
    "\n",
    "    mia_sample = random_sample.iloc[i]\n",
    "\n",
    "    if mia_sample[\"id\"] not in mia_preds.index:\n",
    "        print(f\"Did not find emg data for {mia_sample['id']}\")\n",
    "        continue\n",
    "\n",
    "    print(mia_sample[\"id\"])\n",
    "\n",
    "    body = miau.mia_to_smpl_body(mia_sample[\"path\"], bm, interp=True)\n",
    "\n",
    "    vertices = body.vertices.detach().cpu().numpy()\n",
    "\n",
    "    gts, preds, start, end = miau.load_and_concat_mia_dat(mia_sample[\"id\"], mia_preds, preds_root, pad=59)\n",
    "\n",
    "    # gts = mia_emg_dict[mia_sample[\"id\"]]\n",
    "    # gts /= pct99_norm\n",
    "    # Repeat each frame twice\n",
    "    # gts = gts[:28]\n",
    "    # gts = np.repeat(gts, 2, axis=0)\n",
    "    # gts = gts[np.linspace(0, len(gts) - 1, len(vertices), dtype=int)]\n",
    "    MINT_MIA_MUS = [1, 5, 0, 4]\n",
    "\n",
    "    assert len(gts) == len(vertices)\n",
    "    num_frames = min(len(vertices), len(gts), len(preds))\n",
    "\n",
    "    gts = gts[start:num_frames, MINT_MIA_MUS] * 1.5\n",
    "\n",
    "    preds = preds[start:num_frames, MINT_MIA_MUS] * 1.5\n",
    "\n",
    "    vertices = vertices[start:num_frames]\n",
    "\n",
    "    names = [\"Quad. Fem. (L)\", \"Hamstring (L)\", \"Quad. Fem. (R)\", \"Hamstring (R)\"]\n",
    "\n",
    "    fig = plt.figure(figsize=(8, 12))\n",
    "\n",
    "    gs = GridSpec(2, 1, height_ratios=[5, 2])\n",
    "\n",
    "    ax = fig.add_subplot(gs[0], projection=\"3d\")\n",
    "\n",
    "    lines = plot_emg_data(gts, preds, names, fig=fig, gridspec=gs, ylim=None, show_pred=False)\n",
    "\n",
    "    def update(frame):\n",
    "        ax.clear()\n",
    "        visualize_pose(vertices[frame], frame, ax, title=mia_sample[\"id\"], elev=1, azim=195)\n",
    "\n",
    "        for line in lines:\n",
    "            line.set_xdata(frame)\n",
    "\n",
    "        return [ax, lines]\n",
    "\n",
    "    plt.tight_layout()\n",
    "\n",
    "    ani = FuncAnimation(fig, update, frames=len(vertices), interval=50)  # 20 fps = 50ms interval\n",
    "\n",
    "    path_id = mia_sample[\"id\"].replace(\"/\", \"__I__\")\n",
    "\n",
    "    ani.save(f\"notebook_output/mia/{path_id}.mp4\", writer=\"ffmpeg\", fps=20)\n",
    "    display(Video(f\"notebook_output/mia/{path_id}.mp4\", embed=False))\n",
    "\n",
    "    plt.close(fig)  # Prevents the static plot from showing"
   ]
  }
 ],
 "metadata": {
  "kernelspec": {
   "display_name": "t2mgpt",
   "language": "python",
   "name": "python3"
  },
  "language_info": {
   "codemirror_mode": {
    "name": "ipython",
    "version": 3
   },
   "file_extension": ".py",
   "mimetype": "text/x-python",
   "name": "python",
   "nbconvert_exporter": "python",
   "pygments_lexer": "ipython3",
   "version": "3.11.7"
  }
 },
 "nbformat": 4,
 "nbformat_minor": 2
}
